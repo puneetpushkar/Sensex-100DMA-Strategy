{
  "nbformat": 4,
  "nbformat_minor": 0,
  "metadata": {
    "colab": {
      "name": "sensex100dma.ipynb",
      "private_outputs": true,
      "provenance": [],
      "mount_file_id": "18RQSjA03eG3oUCbVIBIxaV1TYZHHWK2S",
      "authorship_tag": "ABX9TyOjAWc5d4+vPAtXlUfGOfPo",
      "include_colab_link": true
    },
    "kernelspec": {
      "name": "python3",
      "display_name": "Python 3"
    },
    "language_info": {
      "name": "python"
    }
  },
  "cells": [
    {
      "cell_type": "markdown",
      "metadata": {
        "id": "view-in-github",
        "colab_type": "text"
      },
      "source": [
        "<a href=\"https://colab.research.google.com/github/puneetpushkar/Sensex-100DMA-Strategy/blob/main/sensex100dma.ipynb\" target=\"_parent\"><img src=\"https://colab.research.google.com/assets/colab-badge.svg\" alt=\"Open In Colab\"/></a>"
      ]
    },
    {
      "cell_type": "code",
      "source": [
        "import altair as alt\n",
        "from collections import namedtuple\n",
        "import pandas as pd\n",
        "alt.data_transformers.disable_max_rows()"
      ],
      "metadata": {
        "id": "0pxf0ZuvHt1J"
      },
      "execution_count": null,
      "outputs": []
    },
    {
      "cell_type": "markdown",
      "source": [
        "### Data Collection: \n",
        "JS snippet to extract table data\n",
        "\n",
        "```javascript\n",
        "copy(\n",
        "    Array.from($0.querySelectorAll('tr'))\n",
        "    .map(arr => Array.from(arr.querySelectorAll('td')))\n",
        "    .map(arr => arr.map(el => el.innerText))\n",
        ")\n",
        "```\n",
        "\n"
      ],
      "metadata": {
        "id": "AITM_lXfRZ28"
      }
    },
    {
      "cell_type": "code",
      "source": [
        "data= ('/https://raw.githubusercontent.com/puneetpushkar/datahub/main/sensex.json')"
      ],
      "metadata": {
        "id": "z2CYASCnIjdi"
      },
      "execution_count": null,
      "outputs": []
    },
    {
      "cell_type": "code",
      "execution_count": null,
      "metadata": {
        "id": "zB89Ofl4Hnwt"
      },
      "outputs": [],
      "source": [
        "#data cleaning\n",
        "\n",
        "def load_data():\n",
        "    df= pd.read_json(data)\n",
        "    df.columns= ['date', 'open', 'high', 'low', 'close', 'adj_close', 'volume']\n",
        "    df= df[['date', 'close']]\n",
        "    df= df[~df['close'].isin(['-'])]\n",
        "    df.date= pd.to_datetime(df.date, format= '%b %d, %Y')\n",
        "    df.close= df.close.str.replace(',','').astype(float)\n",
        "    df= df.sort_values(by='date')\n",
        "    df= df.reset_index(drop= True)\n",
        "\n",
        "    return df\n",
        "df= load_data()"
      ]
    },
    {
      "cell_type": "code",
      "source": [
        "df"
      ],
      "metadata": {
        "id": "ipwv3ra6HvSP"
      },
      "execution_count": null,
      "outputs": []
    },
    {
      "cell_type": "code",
      "source": [
        "def equity_curve(df, period):\n",
        "    starting_capital = 1_00_000\n",
        "    equity_curve = []\n",
        "    EquityCurve = namedtuple(\"EquityCurve\", [\"date\", \"cash\", \"units\", \"price\", \"ma\", \"pf_value\"])\n",
        "    \n",
        "    df['ma'] = df.close.rolling(window=period).mean().round(2)\n",
        "    df = df.dropna()\n",
        "    init = df.iloc[0]\n",
        "    tail = df[1:].reset_index(drop=True)\n",
        "    \n",
        "    # calc first entry\n",
        "    if init.close > init.ma:\n",
        "        entry = EquityCurve(\n",
        "            date=init.date,\n",
        "            cash=0,\n",
        "            units=round(starting_capital/init.close, 4),\n",
        "            price=init.close,\n",
        "            ma=init.ma,\n",
        "            pf_value=starting_capital\n",
        "        )\n",
        "        \n",
        "    else:\n",
        "        entry = EquityCurve(\n",
        "            date=init.date,\n",
        "            cash=starting_capital,\n",
        "            units=0,\n",
        "            price=init.close,\n",
        "            ma=init.ma,\n",
        "            pf_value=starting_capital\n",
        "        )\n",
        "        \n",
        "    equity_curve.append(entry)\n",
        "    \n",
        "    \n",
        "    # LOOP THROUGH EVERY DATE\n",
        "    for index, row in tail.iterrows():\n",
        "        prev = equity_curve[index]\n",
        "        is_deployed = prev.units != 0\n",
        "        \n",
        "        # update holdings value\n",
        "        if is_deployed and row.close > row.ma:\n",
        "            entry = EquityCurve(\n",
        "                date=row.date,\n",
        "                cash=0,\n",
        "                units=prev.units,\n",
        "                price=row.close,\n",
        "                ma=row.ma,\n",
        "                pf_value=round(prev.units * row.close, 2)\n",
        "            )\n",
        "        \n",
        "        # move to cash\n",
        "        if is_deployed and row.close <= row.ma:\n",
        "            entry = EquityCurve(\n",
        "                date=row.date,\n",
        "                cash=round(prev.units * row.close, 2),\n",
        "                units=0,\n",
        "                price=row.close,\n",
        "                ma=row.ma,\n",
        "                pf_value=round(prev.units * row.close, 2)\n",
        "            )\n",
        "\n",
        "        # deploy cash\n",
        "        if not is_deployed and row.close > row.ma:\n",
        "            entry = EquityCurve(\n",
        "                date=row.date,\n",
        "                cash=0,\n",
        "                units=round(prev.pf_value/row.close, 4),\n",
        "                price=row.close,\n",
        "                ma=row.ma,\n",
        "                pf_value=prev.pf_value\n",
        "            )\n",
        "        \n",
        "        # continue with previous day's value\n",
        "        if not is_deployed and row.close <= row.ma:\n",
        "            entry = EquityCurve(\n",
        "                date=row.date,\n",
        "                cash=prev.cash,\n",
        "                units=0,\n",
        "                price=row.close,\n",
        "                ma=row.ma,\n",
        "                pf_value=prev.pf_value\n",
        "            )\n",
        "        \n",
        "        equity_curve.append(entry)\n",
        "    \n",
        "    return equity_curve\n",
        "\n",
        "eq_curve = equity_curve(df, 100)\n",
        "pf = pd.DataFrame(eq_curve)"
      ],
      "metadata": {
        "id": "7EM2XUSNIhJT"
      },
      "execution_count": null,
      "outputs": []
    },
    {
      "cell_type": "code",
      "source": [
        "pf.price = (pf.price.pct_change() + 1).fillna(100000).cumprod().round(2)\n",
        "pf = pd.melt(pf, id_vars=['date'], value_vars=['price', 'pf_value'])\n",
        "\n",
        "pf"
      ],
      "metadata": {
        "id": "cOfEjrtMREg7"
      },
      "execution_count": null,
      "outputs": []
    },
    {
      "cell_type": "code",
      "source": [
        "alt.Chart(pf).mark_line().encode(\n",
        "    x='date',\n",
        "    y='value',\n",
        "    color='variable',\n",
        "    tooltip=['date', 'value', 'variable']\n",
        ").properties(\n",
        "    title=\"Sensex 100DMA Strategy\",\n",
        "    width=800,\n",
        "    height=600\n",
        ")"
      ],
      "metadata": {
        "id": "qy_F5VmMMNmH"
      },
      "execution_count": null,
      "outputs": []
    },
    {
      "cell_type": "code",
      "source": [
        ""
      ],
      "metadata": {
        "id": "oyUaS9lhRuTw"
      },
      "execution_count": null,
      "outputs": []
    }
  ]
}
